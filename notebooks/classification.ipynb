{
 "cells": [
  {
   "cell_type": "code",
   "execution_count": 1,
   "metadata": {},
   "outputs": [
    {
     "name": "stdout",
     "output_type": "stream",
     "text": [
      "/ems/elsc-labs/mezer-a/niv.amos/repos/qMRI Analyzer - Code\n"
     ]
    }
   ],
   "source": [
    "%cd ..\n",
    "%load_ext autoreload"
   ]
  },
  {
   "cell_type": "code",
   "execution_count": 2,
   "metadata": {},
   "outputs": [
    {
     "name": "stderr",
     "output_type": "stream",
     "text": [
      "/ems/elsc-labs/mezer-a/niv.amos/.conda/envs/qmri/lib/python3.10/site-packages/tqdm/auto.py:21: TqdmWarning: IProgress not found. Please update jupyter and ipywidgets. See https://ipywidgets.readthedocs.io/en/stable/user_install.html\n",
      "  from .autonotebook import tqdm as notebook_tqdm\n"
     ]
    }
   ],
   "source": [
    "import enum\n",
    "import seaborn as sns\n",
    "from data_handling.Data_Processor import DataProcessor\n",
    "import constants\n",
    "from statistics_methods.Statistics import StatisticsWrapper\n",
    "from sklearn.model_selection import train_test_split\n",
    "from sklearn.metrics import accuracy_score, classification_report, precision_score, recall_score, f1_score\n",
    "import xgboost as xgb\n",
    "import pandas as pd\n",
    "from sklearn.metrics import mean_absolute_error\n",
    "import matplotlib.pyplot as plt\n",
    "import shap\n",
    "from statistics_methods.plots import PlotsManager\n",
    "import numpy as np\n",
    "import wandb\n",
    "from sklearn.model_selection import RandomizedSearchCV"
   ]
  },
  {
   "cell_type": "code",
   "execution_count": 3,
   "metadata": {},
   "outputs": [],
   "source": [
    "chosen_rois_dict = constants.ROI_CORTEX\n",
    "params_to_work_with = constants.ALL_PARAMS"
   ]
  },
  {
   "cell_type": "code",
   "execution_count": 4,
   "metadata": {},
   "outputs": [],
   "source": [
    "def load_data(data_path, outliers=[]):\n",
    "    subjects_raw_data = DataProcessor(data_path, chosen_rois_dict, chosen_rois_dict).get_data_proccessed()\n",
    "    analyzed_data = StatisticsWrapper.calc_median_per_subject_per_parameter_per_ROI(subjects_raw_data, params_to_work_with)\n",
    "    chosen_data = StatisticsWrapper.chose_relevant_data(analyzed_data, chosen_rois_dict, params_to_work_with, params_to_work_with)\n",
    "\n",
    "    chosen_data = chosen_data[~chosen_data.subjects.isin(outliers)]\n",
    "    # chosen_data = chosen_data.drop(columns=constants.SLOPES)\n",
    "    chosen_data['ROI'] = chosen_data['ROI'].astype(str)\n",
    "    chosen_data['subjects'] = chosen_data['subjects'].astype(str)\n",
    "\n",
    "    group_a_name, group_b_name, col_divider, threshold = constants.YOUNG, constants.OLD, 'Age', constants.AGE_THRESHOLD\n",
    "    young_subjects, old_subjects = StatisticsWrapper.seperate_data_to_two_groups(chosen_data, col_divider, threshold)\n",
    "\n",
    "    return chosen_data, young_subjects, old_subjects\n",
    "\n",
    "def show_correlations_stats(all_data, young_data, old_data, method, eval_data=None):\n",
    "    clusters_rois = StatisticsWrapper.hierarchical_clustering(all_data, params_to_work_with, 'single',\n",
    "                                                                title=\"all\")['dendrogram_data']['ivl']\n",
    "    young_result = StatisticsWrapper.roi_correlations(young_data, params_to_work_with, clusters_rois,\n",
    "                                                        group_title='Correlations of young group', method=method)\n",
    "    old_result = StatisticsWrapper.roi_correlations(old_data, params_to_work_with, clusters_rois,\n",
    "                                                     group_title='Correlations of old group', method=method)\n",
    "                        \n",
    "    PlotsManager.plot_heatmap(old_result - young_result, 'differences of old and young', project_name=None)\n",
    "    young_corr_means, old_corr_means  = show_corr_mean(young_result, old_result, clusters_rois, 'Average correlations', eval_data)\n",
    "\n",
    "def show_corr_mean(young_result, old_result, clusters_rois, title, eval_data):\n",
    "    young_result['corr_mean'] = young_result.apply(np.mean, axis=1)\n",
    "    old_result['corr_mean'] = old_result.apply(np.mean, axis=1)\n",
    "    eval_data_orederd = eval_data.copy()\n",
    "    eval_data_orederd.index = eval_data_orederd['ROI']\n",
    "    eval_data_orederd = eval_data_orederd.reindex(clusters_rois)\n",
    "\n",
    "    fig = plt.figure(figsize=(20, 8))\n",
    "    ax = fig.add_subplot(1, 1, 1)\n",
    "    ax.set_title(f'{title}')\n",
    "    ax.scatter(clusters_rois, young_result['corr_mean'].to_numpy(), color='blue', s=20, alpha=0.7, label='young')\n",
    "    ax.scatter(clusters_rois, old_result['corr_mean'].to_numpy(), color='red', s=20, alpha=0.7, label='old')\n",
    "    ax.scatter(clusters_rois, eval_data_orederd['Accuracy'], color='black', s=20, alpha=0.7, label='model accuracy', marker='^')\n",
    "    ax.plot(clusters_rois, eval_data_orederd['Accuracy'], color='black')\n",
    "    ax.plot(clusters_rois, young_result['corr_mean'].to_numpy(), color='blue')\n",
    "    ax.plot(clusters_rois, old_result['corr_mean'].to_numpy(), color='red')\n",
    "\n",
    "    ax.set_xticks(clusters_rois)\n",
    "    ax.set_xticklabels(clusters_rois, rotation='vertical', fontsize=10)\n",
    "\n",
    "    # Connecting the points with vertical lines\n",
    "    for x, y1, y2 in zip(clusters_rois, young_result['corr_mean'].to_numpy(), old_result['corr_mean'].to_numpy()):\n",
    "        plt.plot([x, x], [y1, y2], color='gray', linestyle='--')\n",
    "        \n",
    "    # ax.set_facecolor('white')\n",
    "    ax.legend()\n",
    "    ax.grid(True)\n",
    "\n",
    "    return young_result['corr_mean'], old_result['corr_mean']\n",
    "\n",
    "def create_evaluation_report(data, y_test, y_pred):\n",
    "    # Add predictions to the test dataset\n",
    "    test_results = data.copy()\n",
    "    test_results[\"predicted_label\"] = y_pred\n",
    "    test_results[\"label\"] = y_test\n",
    "\n",
    "    # Group by name and calculate evaluation metrics for each group\n",
    "    name_groups = test_results.groupby(\"ROI_name\")\n",
    "    evaluation_results = []\n",
    "\n",
    "    for name, group in name_groups:\n",
    "        true_labels = group[\"label\"]\n",
    "        predicted_labels = group[\"predicted_label\"]\n",
    "        \n",
    "        evaluation_results.append({\n",
    "            \"ROI\": name,\n",
    "            \"Accuracy\": accuracy_score(true_labels, predicted_labels),\n",
    "            \"Precision\": precision_score(true_labels, predicted_labels),\n",
    "            \"Recall\": recall_score(true_labels, predicted_labels),\n",
    "            \"F1-score\": f1_score(true_labels, predicted_labels)\n",
    "        })\n",
    "\n",
    "    # Convert evaluation results to DataFrame for easier visualization\n",
    "    evaluation_df = pd.DataFrame(evaluation_results)\n",
    "    return evaluation_df"
   ]
  },
  {
   "cell_type": "code",
   "execution_count": 52,
   "metadata": {},
   "outputs": [],
   "source": [
    "outliers = ['H047_DC', 'H036_EV', 'H054_AE', 'H046_NB']\n",
    "# outliers = []\n",
    "chosen_data_raw, young_subjects_raw, old_subjects_raw = load_data(constants.PATH_TO_CORTEX_all_params_raw, outliers=outliers)\n",
    "chosen_data_z_score, young_subjects_z_score, old_subjects_z_score = load_data(constants.PATH_TO_CORTEX_all_params_z_score, outliers=outliers)"
   ]
  },
  {
   "cell_type": "markdown",
   "metadata": {},
   "source": [
    "# Cortex binary classification"
   ]
  },
  {
   "cell_type": "code",
   "execution_count": 53,
   "metadata": {},
   "outputs": [],
   "source": [
    "data = chosen_data_raw.copy()\n",
    "seed = 42\n",
    "young_mask = young_subjects_raw.index\n",
    "old_mask = old_subjects_raw.index\n",
    "\n",
    "# Assign labels directly to data_reduced_tsne DataFrame\n",
    "data.loc[young_mask, 'label'] = 0\n",
    "data.loc[old_mask, 'label'] = 1\n",
    "\n",
    "data = data.sample(frac=1)\n",
    "\n",
    "x, y = data.drop(columns=['label']), data['label']\n",
    "x_train, x_test, y_train, y_test = train_test_split(x, y, test_size=0.2, stratify=data['ROI_name'], random_state=seed)"
   ]
  },
  {
   "cell_type": "code",
   "execution_count": 76,
   "metadata": {},
   "outputs": [],
   "source": [
    "def classify_data(x_train, y_train, x_test, y_test, title, params):    \n",
    "    global classification_df\n",
    "    \n",
    "    # Create and train the model\n",
    "    model = xgb.XGBClassifier(**params)\n",
    "    model.fit(x_train, y_train)\n",
    "\n",
    "    # Make predictions\n",
    "    predictions = model.predict(x_test)\n",
    "    accuracy = accuracy_score(y_test, predictions)\n",
    "\n",
    "    class_report = classification_report(y_test, predictions, output_dict=True)\n",
    "    overall_metrics = {\n",
    "        \"precision\": class_report[\"weighted avg\"][\"precision\"],\n",
    "        \"recall\": class_report[\"weighted avg\"][\"recall\"],\n",
    "        \"f1-score\": class_report[\"weighted avg\"][\"f1-score\"],\n",
    "        \"accuracy\": accuracy\n",
    "    }\n",
    "\n",
    "    current_report = pd.DataFrame.from_dict(overall_metrics, orient=\"index\", columns=[title])\n",
    "\n",
    "    # Merge with the cumulative DataFrame\n",
    "    if classification_df is None:\n",
    "        classification_df = current_report\n",
    "    else:\n",
    "        classification_df = pd.concat([classification_df, current_report], axis=1)\n",
    "\n",
    "    return model\n",
    "\n",
    "def plot_classification_report(project_name, title, classification_df):\n",
    "    # Initialize a W&B run\n",
    "    wandb.init(project=project_name, name=title)\n",
    "\n",
    "    # Log the updated DataFrame to W&B\n",
    "    wandb.log({\"classification_report\": wandb.Table(data=classification_df, columns=params_to_work_with)})\n",
    "\n",
    "    # End the W&B run\n",
    "    wandb.finish()\n"
   ]
  },
  {
   "cell_type": "code",
   "execution_count": 45,
   "metadata": {},
   "outputs": [],
   "source": [
    "# Define parameter space\n",
    "param_dist = {\n",
    "    'max_depth': [3, 5, 7, 9],\n",
    "    'learning_rate': [0.01, 0.05, 0.1, 0.2],\n",
    "    'n_estimators': [50, 100, 200, 300],\n",
    "    'subsample': [0.6, 0.8, 1],\n",
    "    'colsample_bytree': [0.6, 0.8, 1],\n",
    "    'gamma': [0, 1, 5],\n",
    "}\n",
    "\n",
    "# Initialize model\n",
    "xgb_model = xgb.XGBClassifier()\n",
    "\n",
    "# Randomized Search\n",
    "random_search = RandomizedSearchCV(\n",
    "    estimator=xgb_model,\n",
    "    param_distributions=param_dist,\n",
    "    n_iter=100,\n",
    "    scoring='accuracy',\n",
    "    cv=3,\n",
    "    random_state=42\n",
    ")\n",
    "random_search.fit(x_train[params_to_work_with], y_train)\n",
    "\n",
    "# Best parameters\n",
    "best_params = random_search.best_params_\n",
    "best_params['random_state'] = seed"
   ]
  },
  {
   "cell_type": "code",
   "execution_count": 46,
   "metadata": {},
   "outputs": [
    {
     "data": {
      "text/plain": [
       "{'subsample': 0.8,\n",
       " 'n_estimators': 100,\n",
       " 'max_depth': 7,\n",
       " 'learning_rate': 0.1,\n",
       " 'gamma': 0,\n",
       " 'colsample_bytree': 0.8,\n",
       " 'random_state': 42}"
      ]
     },
     "execution_count": 46,
     "metadata": {},
     "output_type": "execute_result"
    }
   ],
   "source": [
    "best_params"
   ]
  },
  {
   "cell_type": "code",
   "execution_count": 77,
   "metadata": {},
   "outputs": [],
   "source": [
    "classification_df = None\n",
    "\n",
    "model = classify_data(x_train[params_to_work_with], y_train, x_test[params_to_work_with], y_test, 'All params', {\"random_state\": seed})\n",
    "for param in params_to_work_with:\n",
    "    classify_data(x_train[param], y_train, x_test[param], y_test, param, {\"random_state\": seed})\n"
   ]
  },
  {
   "cell_type": "code",
   "execution_count": 78,
   "metadata": {},
   "outputs": [
    {
     "data": {
      "text/html": [
       "<div>\n",
       "<style scoped>\n",
       "    .dataframe tbody tr th:only-of-type {\n",
       "        vertical-align: middle;\n",
       "    }\n",
       "\n",
       "    .dataframe tbody tr th {\n",
       "        vertical-align: top;\n",
       "    }\n",
       "\n",
       "    .dataframe thead th {\n",
       "        text-align: right;\n",
       "    }\n",
       "</style>\n",
       "<table border=\"1\" class=\"dataframe\">\n",
       "  <thead>\n",
       "    <tr style=\"text-align: right;\">\n",
       "      <th></th>\n",
       "      <th>All params</th>\n",
       "      <th>r1</th>\n",
       "      <th>tv</th>\n",
       "      <th>r2s</th>\n",
       "      <th>mt</th>\n",
       "      <th>t2</th>\n",
       "      <th>diffusion_fa</th>\n",
       "      <th>diffusion_md</th>\n",
       "    </tr>\n",
       "  </thead>\n",
       "  <tbody>\n",
       "    <tr>\n",
       "      <th>precision</th>\n",
       "      <td>0.855996</td>\n",
       "      <td>0.486108</td>\n",
       "      <td>0.693450</td>\n",
       "      <td>0.562571</td>\n",
       "      <td>0.532419</td>\n",
       "      <td>0.578082</td>\n",
       "      <td>0.519476</td>\n",
       "      <td>0.550441</td>\n",
       "    </tr>\n",
       "    <tr>\n",
       "      <th>recall</th>\n",
       "      <td>0.855856</td>\n",
       "      <td>0.489489</td>\n",
       "      <td>0.693694</td>\n",
       "      <td>0.564565</td>\n",
       "      <td>0.534535</td>\n",
       "      <td>0.579580</td>\n",
       "      <td>0.522523</td>\n",
       "      <td>0.552553</td>\n",
       "    </tr>\n",
       "    <tr>\n",
       "      <th>f1-score</th>\n",
       "      <td>0.855895</td>\n",
       "      <td>0.486040</td>\n",
       "      <td>0.692943</td>\n",
       "      <td>0.557936</td>\n",
       "      <td>0.532083</td>\n",
       "      <td>0.575791</td>\n",
       "      <td>0.518503</td>\n",
       "      <td>0.549290</td>\n",
       "    </tr>\n",
       "    <tr>\n",
       "      <th>accuracy</th>\n",
       "      <td>0.855856</td>\n",
       "      <td>0.489489</td>\n",
       "      <td>0.693694</td>\n",
       "      <td>0.564565</td>\n",
       "      <td>0.534535</td>\n",
       "      <td>0.579580</td>\n",
       "      <td>0.522523</td>\n",
       "      <td>0.552553</td>\n",
       "    </tr>\n",
       "  </tbody>\n",
       "</table>\n",
       "</div>"
      ],
      "text/plain": [
       "           All params        r1        tv       r2s        mt        t2   \n",
       "precision    0.855996  0.486108  0.693450  0.562571  0.532419  0.578082  \\\n",
       "recall       0.855856  0.489489  0.693694  0.564565  0.534535  0.579580   \n",
       "f1-score     0.855895  0.486040  0.692943  0.557936  0.532083  0.575791   \n",
       "accuracy     0.855856  0.489489  0.693694  0.564565  0.534535  0.579580   \n",
       "\n",
       "           diffusion_fa  diffusion_md  \n",
       "precision      0.519476      0.550441  \n",
       "recall         0.522523      0.552553  \n",
       "f1-score       0.518503      0.549290  \n",
       "accuracy       0.522523      0.552553  "
      ]
     },
     "execution_count": 78,
     "metadata": {},
     "output_type": "execute_result"
    }
   ],
   "source": [
    "classification_df"
   ]
  },
  {
   "cell_type": "code",
   "execution_count": 79,
   "metadata": {},
   "outputs": [],
   "source": [
    "from itertools import combinations\n",
    "\n",
    "# Assuming classify_data is your function and params_to_work_with is a list of parameter names\n",
    "# Example: params_to_work_with = ['param1', 'param2', 'param3', ..., 'param7']\n",
    "classification_df = None\n",
    "\n",
    "for num_params in range(1, len(params_to_work_with) + 1):\n",
    "    # Generate all combinations of num_params\n",
    "    for param_combination in combinations(params_to_work_with, num_params):\n",
    "        # Select the corresponding columns from x_train and x_test\n",
    "        selected_params = list(param_combination)\n",
    "        x_train_subset = x_train[selected_params]\n",
    "        x_test_subset = x_test[selected_params]\n",
    "        \n",
    "        # Run classify_data with the selected parameters\n",
    "        classify_data(\n",
    "            x_train_subset, \n",
    "            y_train, \n",
    "            x_test_subset, \n",
    "            y_test, \n",
    "            f\"{num_params}\",  # Informative name\n",
    "            {\"random_state\": seed}\n",
    "        )"
   ]
  },
  {
   "cell_type": "code",
   "execution_count": 80,
   "metadata": {},
   "outputs": [
    {
     "data": {
      "text/html": [
       "<div>\n",
       "<style scoped>\n",
       "    .dataframe tbody tr th:only-of-type {\n",
       "        vertical-align: middle;\n",
       "    }\n",
       "\n",
       "    .dataframe tbody tr th {\n",
       "        vertical-align: top;\n",
       "    }\n",
       "\n",
       "    .dataframe thead th {\n",
       "        text-align: right;\n",
       "    }\n",
       "</style>\n",
       "<table border=\"1\" class=\"dataframe\">\n",
       "  <thead>\n",
       "    <tr style=\"text-align: right;\">\n",
       "      <th></th>\n",
       "      <th>1</th>\n",
       "      <th>2</th>\n",
       "      <th>3</th>\n",
       "      <th>4</th>\n",
       "      <th>5</th>\n",
       "      <th>6</th>\n",
       "      <th>7</th>\n",
       "    </tr>\n",
       "  </thead>\n",
       "  <tbody>\n",
       "    <tr>\n",
       "      <th>precision</th>\n",
       "      <td>0.560364</td>\n",
       "      <td>0.618592</td>\n",
       "      <td>0.695439</td>\n",
       "      <td>0.756408</td>\n",
       "      <td>0.809052</td>\n",
       "      <td>0.838875</td>\n",
       "      <td>0.855996</td>\n",
       "    </tr>\n",
       "    <tr>\n",
       "      <th>recall</th>\n",
       "      <td>0.562420</td>\n",
       "      <td>0.619334</td>\n",
       "      <td>0.695495</td>\n",
       "      <td>0.756242</td>\n",
       "      <td>0.808523</td>\n",
       "      <td>0.838696</td>\n",
       "      <td>0.855856</td>\n",
       "    </tr>\n",
       "    <tr>\n",
       "      <th>f1-score</th>\n",
       "      <td>0.558941</td>\n",
       "      <td>0.617776</td>\n",
       "      <td>0.694586</td>\n",
       "      <td>0.755645</td>\n",
       "      <td>0.808130</td>\n",
       "      <td>0.838660</td>\n",
       "      <td>0.855895</td>\n",
       "    </tr>\n",
       "    <tr>\n",
       "      <th>accuracy</th>\n",
       "      <td>0.562420</td>\n",
       "      <td>0.619334</td>\n",
       "      <td>0.695495</td>\n",
       "      <td>0.756242</td>\n",
       "      <td>0.808523</td>\n",
       "      <td>0.838696</td>\n",
       "      <td>0.855856</td>\n",
       "    </tr>\n",
       "  </tbody>\n",
       "</table>\n",
       "</div>"
      ],
      "text/plain": [
       "                  1         2         3         4         5         6   \n",
       "precision  0.560364  0.618592  0.695439  0.756408  0.809052  0.838875  \\\n",
       "recall     0.562420  0.619334  0.695495  0.756242  0.808523  0.838696   \n",
       "f1-score   0.558941  0.617776  0.694586  0.755645  0.808130  0.838660   \n",
       "accuracy   0.562420  0.619334  0.695495  0.756242  0.808523  0.838696   \n",
       "\n",
       "                  7  \n",
       "precision  0.855996  \n",
       "recall     0.855856  \n",
       "f1-score   0.855895  \n",
       "accuracy   0.855856  "
      ]
     },
     "execution_count": 80,
     "metadata": {},
     "output_type": "execute_result"
    }
   ],
   "source": [
    "grouped_df = classification_df.groupby(by=classification_df.columns, axis=1).mean()\n",
    "grouped_df"
   ]
  },
  {
   "cell_type": "code",
   "execution_count": 92,
   "metadata": {},
   "outputs": [
    {
     "data": {
      "text/plain": [
       "(array([0.5 , 0.55, 0.6 , 0.65, 0.7 , 0.75, 0.8 , 0.85, 0.9 ]),\n",
       " [Text(0, 0.5, '0.50'),\n",
       "  Text(0, 0.55, '0.55'),\n",
       "  Text(0, 0.6, '0.60'),\n",
       "  Text(0, 0.65, '0.65'),\n",
       "  Text(0, 0.7, '0.70'),\n",
       "  Text(0, 0.75, '0.75'),\n",
       "  Text(0, 0.8, '0.80'),\n",
       "  Text(0, 0.8500000000000001, '0.85'),\n",
       "  Text(0, 0.9, '0.90')])"
      ]
     },
     "execution_count": 92,
     "metadata": {},
     "output_type": "execute_result"
    },
    {
     "data": {
      "image/png": "[encoded data removed]",
      "text/plain": [
       "<Figure size 800x600 with 1 Axes>"
      ]
     },
     "metadata": {},
     "output_type": "display_data"
    }
   ],
   "source": [
    "# plt.figure(figsize=(10, 6))\n",
    "# plt.plot(grouped_df.columns, grouped_df.loc['accuracy'], label='accuracy', marker='o')\n",
    "\n",
    "# # Add labels, legend, and title\n",
    "# plt.xlabel(\"Parameters\")\n",
    "# plt.ylabel(\"Average accuracy\")\n",
    "# plt.title(\"Average accuracy Across Parameters\")\n",
    "\n",
    "# Create the plot\n",
    "plt.figure(figsize=(8, 6))  # Larger figure size for better readability\n",
    "\n",
    "# Plot the data with markers and line styles\n",
    "plt.plot(grouped_df.columns, grouped_df.loc['accuracy'], linestyle='-', linewidth=2, markersize=2, label='Accuracy')\n",
    "\n",
    "# Customize the axis labels and title\n",
    "plt.xlabel(\"Number of parameters\", fontsize=14)\n",
    "plt.ylabel(\"Average accuracy\", fontsize=14)\n",
    "plt.title(\"Average accuracy across parameters\", fontsize=16)\n",
    "\n",
    "# Customize tick parameters\n",
    "plt.xticks(fontsize=12)\n",
    "plt.yticks(fontsize=12)\n",
    "\n",
    "# Add a grid\n",
    "# plt.grid(color='gray', linestyle='--', linewidth=0.5, alpha=0.7)"
   ]
  },
  {
   "cell_type": "code",
   "execution_count": 9,
   "metadata": {},
   "outputs": [
    {
     "name": "stderr",
     "output_type": "stream",
     "text": [
      "Failed to detect the name of this notebook, you can set it manually with the WANDB_NOTEBOOK_NAME environment variable to enable code saving.\n",
      "\u001b[34m\u001b[1mwandb\u001b[0m: Currently logged in as: \u001b[33mnivamos704\u001b[0m. Use \u001b[1m`wandb login --relogin`\u001b[0m to force relogin\n"
     ]
    },
    {
     "data": {
      "text/html": [
       "wandb version 0.19.0 is available!  To upgrade, please run:\n",
       " $ pip install wandb --upgrade"
      ],
      "text/plain": [
       "<IPython.core.display.HTML object>"
      ]
     },
     "metadata": {},
     "output_type": "display_data"
    },
    {
     "data": {
      "text/html": [
       "Tracking run with wandb version 0.15.9"
      ],
      "text/plain": [
       "<IPython.core.display.HTML object>"
      ]
     },
     "metadata": {},
     "output_type": "display_data"
    },
    {
     "data": {
      "text/html": [
       "Run data is saved locally in <code>/ems/elsc-labs/mezer-a/niv.amos/repos/qMRI Analyzer - Code/wandb/run-20241205_174955-1dl5g3ss</code>"
      ],
      "text/plain": [
       "<IPython.core.display.HTML object>"
      ]
     },
     "metadata": {},
     "output_type": "display_data"
    },
    {
     "data": {
      "text/html": [
       "Syncing run <strong><a href='https://wandb.ai/nivamos704/xgboost_classifier/runs/1dl5g3ss' target=\"_blank\">class</a></strong> to <a href='https://wandb.ai/nivamos704/xgboost_classifier' target=\"_blank\">Weights & Biases</a> (<a href='https://wandb.me/run' target=\"_blank\">docs</a>)<br/>"
      ],
      "text/plain": [
       "<IPython.core.display.HTML object>"
      ]
     },
     "metadata": {},
     "output_type": "display_data"
    },
    {
     "data": {
      "text/html": [
       " View project at <a href='https://wandb.ai/nivamos704/xgboost_classifier' target=\"_blank\">https://wandb.ai/nivamos704/xgboost_classifier</a>"
      ],
      "text/plain": [
       "<IPython.core.display.HTML object>"
      ]
     },
     "metadata": {},
     "output_type": "display_data"
    },
    {
     "data": {
      "text/html": [
       " View run at <a href='https://wandb.ai/nivamos704/xgboost_classifier/runs/1dl5g3ss' target=\"_blank\">https://wandb.ai/nivamos704/xgboost_classifier/runs/1dl5g3ss</a>"
      ],
      "text/plain": [
       "<IPython.core.display.HTML object>"
      ]
     },
     "metadata": {},
     "output_type": "display_data"
    },
    {
     "data": {
      "text/html": [
       "Waiting for W&B process to finish... <strong style=\"color:green\">(success).</strong>"
      ],
      "text/plain": [
       "<IPython.core.display.HTML object>"
      ]
     },
     "metadata": {},
     "output_type": "display_data"
    },
    {
     "name": "stderr",
     "output_type": "stream",
     "text": [
      "wandb: WARNING Source type is set to 'repo' but some required information is missing from the environment. A job will not be created from this run. See https://docs.wandb.ai/guides/launch/create-job\n"
     ]
    },
    {
     "data": {
      "text/html": [
       " View run <strong style=\"color:#cdcd00\">class</strong> at: <a href='https://wandb.ai/nivamos704/xgboost_classifier/runs/1dl5g3ss' target=\"_blank\">https://wandb.ai/nivamos704/xgboost_classifier/runs/1dl5g3ss</a><br/>Synced 5 W&B file(s), 1 media file(s), 1 artifact file(s) and 0 other file(s)"
      ],
      "text/plain": [
       "<IPython.core.display.HTML object>"
      ]
     },
     "metadata": {},
     "output_type": "display_data"
    },
    {
     "data": {
      "text/html": [
       "Find logs at: <code>./wandb/run-20241205_174955-1dl5g3ss/logs</code>"
      ],
      "text/plain": [
       "<IPython.core.display.HTML object>"
      ]
     },
     "metadata": {},
     "output_type": "display_data"
    }
   ],
   "source": [
    "plot_classification_report(\"xgboost_classifier\", \"class\", classification_df)"
   ]
  },
  {
   "cell_type": "code",
   "execution_count": 37,
   "metadata": {},
   "outputs": [
    {
     "data": {
      "text/html": [
       "<div>\n",
       "<style scoped>\n",
       "    .dataframe tbody tr th:only-of-type {\n",
       "        vertical-align: middle;\n",
       "    }\n",
       "\n",
       "    .dataframe tbody tr th {\n",
       "        vertical-align: top;\n",
       "    }\n",
       "\n",
       "    .dataframe thead th {\n",
       "        text-align: right;\n",
       "    }\n",
       "</style>\n",
       "<table border=\"1\" class=\"dataframe\">\n",
       "  <thead>\n",
       "    <tr style=\"text-align: right;\">\n",
       "      <th></th>\n",
       "    </tr>\n",
       "  </thead>\n",
       "  <tbody>\n",
       "  </tbody>\n",
       "</table>\n",
       "</div>"
      ],
      "text/plain": [
       "Empty DataFrame\n",
       "Columns: []\n",
       "Index: []"
      ]
     },
     "execution_count": 37,
     "metadata": {},
     "output_type": "execute_result"
    }
   ],
   "source": [
    "classification_df\n",
    "# eval_df = create_evaluation_report(x_test, y_test, predictions)\n",
    "# show_correlations_stats(chosen_data_z_score, young_subjects_z_score, old_subjects_z_score, 'pearson', eval_df)"
   ]
  },
  {
   "cell_type": "markdown",
   "metadata": {},
   "source": [
    "## Features analysis"
   ]
  },
  {
   "cell_type": "code",
   "execution_count": 10,
   "metadata": {},
   "outputs": [
    {
     "data": {
      "text/plain": [
       "<BarContainer object of 7 artists>"
      ]
     },
     "execution_count": 10,
     "metadata": {},
     "output_type": "execute_result"
    },
    {
     "data": {
      "image/png": "[encoded data removed]",
      "text/plain": [
       "<Figure size 1200x800 with 1 Axes>"
      ]
     },
     "metadata": {},
     "output_type": "display_data"
    }
   ],
   "source": [
    "plt.figure(figsize=(12, 8))\n",
    "plt.xticks(fontsize=14)\n",
    "plt.yticks(fontsize=14)\n",
    "plt.ylabel('Feature importance (average Gain per split)', fontsize=14)\n",
    "plt.bar(params_to_work_with, model.feature_importances_)"
   ]
  },
  {
   "cell_type": "markdown",
   "metadata": {},
   "source": [
    "## Age prediction"
   ]
  },
  {
   "cell_type": "code",
   "execution_count": 11,
   "metadata": {},
   "outputs": [],
   "source": [
    "random_state = 42\n",
    "data = chosen_data_raw.copy()\n",
    "data = data.sample(frac=1, random_state=random_state)\n",
    "x, y, rois_names = data[params_to_work_with], data['Age'], data['ROI_name']"
   ]
  },
  {
   "cell_type": "code",
   "execution_count": 12,
   "metadata": {},
   "outputs": [],
   "source": [
    "x_train, x_test, y_train, y_test = train_test_split(x, y, test_size=0.2, random_state=random_state)\n",
    "model = xgb.XGBRegressor(random_state=random_state)"
   ]
  },
  {
   "cell_type": "code",
   "execution_count": 13,
   "metadata": {},
   "outputs": [
    {
     "data": {
      "text/html": [
       "<style>#sk-container-id-1 {color: black;background-color: white;}#sk-container-id-1 pre{padding: 0;}#sk-container-id-1 div.sk-toggleable {background-color: white;}#sk-container-id-1 label.sk-toggleable__label {cursor: pointer;display: block;width: 100%;margin-bottom: 0;padding: 0.3em;box-sizing: border-box;text-align: center;}#sk-container-id-1 label.sk-toggleable__label-arrow:before {content: \"▸\";float: left;margin-right: 0.25em;color: #696969;}#sk-container-id-1 label.sk-toggleable__label-arrow:hover:before {color: black;}#sk-container-id-1 div.sk-estimator:hover label.sk-toggleable__label-arrow:before {color: black;}#sk-container-id-1 div.sk-toggleable__content {max-height: 0;max-width: 0;overflow: hidden;text-align: left;background-color: #f0f8ff;}#sk-container-id-1 div.sk-toggleable__content pre {margin: 0.2em;color: black;border-radius: 0.25em;background-color: #f0f8ff;}#sk-container-id-1 input.sk-toggleable__control:checked~div.sk-toggleable__content {max-height: 200px;max-width: 100%;overflow: auto;}#sk-container-id-1 input.sk-toggleable__control:checked~label.sk-toggleable__label-arrow:before {content: \"▾\";}#sk-container-id-1 div.sk-estimator input.sk-toggleable__control:checked~label.sk-toggleable__label {background-color: #d4ebff;}#sk-container-id-1 div.sk-label input.sk-toggleable__control:checked~label.sk-toggleable__label {background-color: #d4ebff;}#sk-container-id-1 input.sk-hidden--visually {border: 0;clip: rect(1px 1px 1px 1px);clip: rect(1px, 1px, 1px, 1px);height: 1px;margin: -1px;overflow: hidden;padding: 0;position: absolute;width: 1px;}#sk-container-id-1 div.sk-estimator {font-family: monospace;background-color: #f0f8ff;border: 1px dotted black;border-radius: 0.25em;box-sizing: border-box;margin-bottom: 0.5em;}#sk-container-id-1 div.sk-estimator:hover {background-color: #d4ebff;}#sk-container-id-1 div.sk-parallel-item::after {content: \"\";width: 100%;border-bottom: 1px solid gray;flex-grow: 1;}#sk-container-id-1 div.sk-label:hover label.sk-toggleable__label {background-color: #d4ebff;}#sk-container-id-1 div.sk-serial::before {content: \"\";position: absolute;border-left: 1px solid gray;box-sizing: border-box;top: 0;bottom: 0;left: 50%;z-index: 0;}#sk-container-id-1 div.sk-serial {display: flex;flex-direction: column;align-items: center;background-color: white;padding-right: 0.2em;padding-left: 0.2em;position: relative;}#sk-container-id-1 div.sk-item {position: relative;z-index: 1;}#sk-container-id-1 div.sk-parallel {display: flex;align-items: stretch;justify-content: center;background-color: white;position: relative;}#sk-container-id-1 div.sk-item::before, #sk-container-id-1 div.sk-parallel-item::before {content: \"\";position: absolute;border-left: 1px solid gray;box-sizing: border-box;top: 0;bottom: 0;left: 50%;z-index: -1;}#sk-container-id-1 div.sk-parallel-item {display: flex;flex-direction: column;z-index: 1;position: relative;background-color: white;}#sk-container-id-1 div.sk-parallel-item:first-child::after {align-self: flex-end;width: 50%;}#sk-container-id-1 div.sk-parallel-item:last-child::after {align-self: flex-start;width: 50%;}#sk-container-id-1 div.sk-parallel-item:only-child::after {width: 0;}#sk-container-id-1 div.sk-dashed-wrapped {border: 1px dashed gray;margin: 0 0.4em 0.5em 0.4em;box-sizing: border-box;padding-bottom: 0.4em;background-color: white;}#sk-container-id-1 div.sk-label label {font-family: monospace;font-weight: bold;display: inline-block;line-height: 1.2em;}#sk-container-id-1 div.sk-label-container {text-align: center;}#sk-container-id-1 div.sk-container {/* jupyter's `normalize.less` sets `[hidden] { display: none; }` but bootstrap.min.css set `[hidden] { display: none !important; }` so we also need the `!important` here to be able to override the default hidden behavior on the sphinx rendered scikit-learn.org. See: https://github.com/scikit-learn/scikit-learn/issues/21755 */display: inline-block !important;position: relative;}#sk-container-id-1 div.sk-text-repr-fallback {display: none;}</style><div id=\"sk-container-id-1\" class=\"sk-top-container\"><div class=\"sk-text-repr-fallback\"><pre>XGBRegressor(base_score=None, booster=None, callbacks=None,\n",
       "             colsample_bylevel=None, colsample_bynode=None,\n",
       "             colsample_bytree=None, early_stopping_rounds=None,\n",
       "             enable_categorical=False, eval_metric=None, feature_types=None,\n",
       "             gamma=None, gpu_id=None, grow_policy=None, importance_type=None,\n",
       "             interaction_constraints=None, learning_rate=None, max_bin=None,\n",
       "             max_cat_threshold=None, max_cat_to_onehot=None,\n",
       "             max_delta_step=None, max_depth=None, max_leaves=None,\n",
       "             min_child_weight=None, missing=nan, monotone_constraints=None,\n",
       "             n_estimators=100, n_jobs=None, num_parallel_tree=None,\n",
       "             predictor=None, random_state=42, ...)</pre><b>In a Jupyter environment, please rerun this cell to show the HTML representation or trust the notebook. <br />On GitHub, the HTML representation is unable to render, please try loading this page with nbviewer.org.</b></div><div class=\"sk-container\" hidden><div class=\"sk-item\"><div class=\"sk-estimator sk-toggleable\"><input class=\"sk-toggleable__control sk-hidden--visually\" id=\"sk-estimator-id-1\" type=\"checkbox\" checked><label for=\"sk-estimator-id-1\" class=\"sk-toggleable__label sk-toggleable__label-arrow\">XGBRegressor</label><div class=\"sk-toggleable__content\"><pre>XGBRegressor(base_score=None, booster=None, callbacks=None,\n",
       "             colsample_bylevel=None, colsample_bynode=None,\n",
       "             colsample_bytree=None, early_stopping_rounds=None,\n",
       "             enable_categorical=False, eval_metric=None, feature_types=None,\n",
       "             gamma=None, gpu_id=None, grow_policy=None, importance_type=None,\n",
       "             interaction_constraints=None, learning_rate=None, max_bin=None,\n",
       "             max_cat_threshold=None, max_cat_to_onehot=None,\n",
       "             max_delta_step=None, max_depth=None, max_leaves=None,\n",
       "             min_child_weight=None, missing=nan, monotone_constraints=None,\n",
       "             n_estimators=100, n_jobs=None, num_parallel_tree=None,\n",
       "             predictor=None, random_state=42, ...)</pre></div></div></div></div></div>"
      ],
      "text/plain": [
       "XGBRegressor(base_score=None, booster=None, callbacks=None,\n",
       "             colsample_bylevel=None, colsample_bynode=None,\n",
       "             colsample_bytree=None, early_stopping_rounds=None,\n",
       "             enable_categorical=False, eval_metric=None, feature_types=None,\n",
       "             gamma=None, gpu_id=None, grow_policy=None, importance_type=None,\n",
       "             interaction_constraints=None, learning_rate=None, max_bin=None,\n",
       "             max_cat_threshold=None, max_cat_to_onehot=None,\n",
       "             max_delta_step=None, max_depth=None, max_leaves=None,\n",
       "             min_child_weight=None, missing=nan, monotone_constraints=None,\n",
       "             n_estimators=100, n_jobs=None, num_parallel_tree=None,\n",
       "             predictor=None, random_state=42, ...)"
      ]
     },
     "execution_count": 13,
     "metadata": {},
     "output_type": "execute_result"
    }
   ],
   "source": [
    "model.fit(x_train, y_train)"
   ]
  },
  {
   "cell_type": "code",
   "execution_count": 14,
   "metadata": {},
   "outputs": [
    {
     "name": "stdout",
     "output_type": "stream",
     "text": [
      "[(69.05116, 73), (58.39403, 57), (34.83711, 27), (31.351606, 65), (69.213974, 69), (24.639757, 25), (48.919262, 31), (40.656796, 65), (64.56039, 57), (25.575853, 23), (24.86699, 23), (63.587463, 24), (27.08942, 23), (24.545525, 26), (70.03275, 65), (64.5551, 63), (28.52383, 29), (20.403635, 26), (29.795694, 27), (31.716276, 24), (60.372974, 75), (24.809526, 31), (21.03341, 26), (74.22404, 71), (73.24681, 57), (27.575932, 31), (60.401733, 68), (25.703487, 25), (40.596233, 57), (40.490665, 31), (36.678326, 25), (46.630756, 26), (70.02447, 75), (57.84406, 57), (55.648308, 69), (28.653067, 27), (31.449276, 25), (33.43686, 23), (25.107235, 29), (47.752357, 67), (28.833916, 26), (20.772875, 23), (19.819298, 29), (63.24488, 70), (35.647884, 31), (60.95782, 65), (71.472115, 69), (66.70159, 69), (56.86276, 61), (35.87352, 25), (24.96675, 23), (22.69174, 25), (24.308405, 25), (67.81036, 75), (22.711683, 27), (63.52846, 61), (75.03694, 61), (43.784527, 31), (69.47806, 70), (74.36786, 57), (51.00611, 57), (52.51739, 75), (25.045275, 23), (67.80968, 70), (52.20174, 24), (43.281013, 65), (24.93807, 24), (62.42981, 31), (64.88262, 61), (45.845997, 25), (42.800304, 57), (48.42117, 65), (29.72557, 26), (62.961494, 68), (40.596012, 24), (66.43722, 69), (46.71204, 65), (25.75516, 25), (44.497112, 31), (69.31902, 24), (79.71824, 75), (44.05081, 31), (39.996677, 65), (50.729805, 31), (25.000153, 25), (39.601368, 25), (64.68972, 70), (27.284231, 25), (23.9234, 25), (28.224617, 25), (31.782732, 31), (56.516544, 69), (27.24926, 23), (23.35293, 27), (63.595947, 70), (64.67, 57), (65.13805, 71), (74.445496, 71), (54.852604, 63), (28.377792, 25), (64.17695, 69), (47.172142, 24), (41.424, 25), (24.524881, 29), (29.566269, 27), (69.8089, 75), (28.12668, 24), (62.560642, 65), (35.20239, 23), (69.92564, 57), (20.777857, 26), (29.36947, 23), (47.907005, 25), (25.120523, 25), (72.07098, 75), (36.007477, 31), (29.189194, 23), (35.639824, 25), (25.864616, 29), (36.638866, 24), (49.843994, 57), (41.940586, 24), (54.830452, 67), (65.65441, 67), (61.133293, 75), (27.992704, 24), (45.573845, 31), (63.406414, 73), (78.58003, 24), (22.954716, 25), (18.008333, 31), (68.067184, 61), (48.885902, 70), (78.14, 69), (49.64848, 68), (26.847847, 31), (56.37665, 75), (24.784618, 25), (34.015186, 31), (25.78916, 29), (36.457924, 25), (63.773277, 61), (23.80984, 27), (23.660475, 25), (29.97936, 25), (64.85752, 75), (25.51392, 31), (55.68138, 73), (71.06344, 75), (67.99757, 67), (24.396317, 25), (66.1549, 69), (38.07265, 31), (61.29643, 57), (65.78689, 68), (33.510777, 27), (75.656235, 75), (36.584293, 25), (50.148403, 65), (34.66613, 26), (63.036835, 61), (25.561863, 26), (62.695087, 61), (30.839441, 31), (62.516224, 31), (52.204098, 69), (62.25741, 61), (50.420776, 57), (23.65933, 25), (28.89857, 26), (58.027863, 31), (51.415558, 27), (23.617294, 63), (65.1816, 71), (27.26641, 29), (30.264502, 24), (24.652462, 26), (44.002598, 65), (47.446102, 65), (21.888905, 27), (24.886662, 26), (48.877, 63), (29.178495, 29), (37.903164, 26), (28.360462, 25), (35.209152, 63), (33.55753, 29), (20.529789, 26), (27.240149, 26), (62.310715, 73), (28.640297, 27), (69.217445, 73), (24.125841, 25), (31.739649, 23), (29.219425, 26), (28.127043, 24), (45.28929, 67), (53.21747, 63), (34.632137, 27), (28.2369, 29), (60.46803, 69), (26.42659, 26), (61.92642, 69), (24.76029, 27), (25.89567, 27), (74.59165, 71), (72.371315, 71), (47.553688, 31), (51.093433, 26), (67.44282, 69), (71.014786, 71), (35.01517, 27), (46.196587, 27), (36.867596, 63), (23.755762, 25), (71.22757, 61), (35.056667, 67), (27.419895, 27), (34.547832, 29), (21.871193, 23), (29.04859, 27), (69.19193, 75), (48.5314, 24), (27.32981, 24), (24.135035, 27), (51.302605, 68), (43.19836, 23), (71.22851, 65), (25.980274, 25), (31.182695, 26), (58.261547, 61), (47.514267, 26), (42.639866, 25), (76.15194, 73), (75.69873, 75), (31.461843, 25), (37.39497, 24), (30.554844, 63), (41.002254, 26), (74.74819, 68), (71.98508, 70), (49.211765, 26), (40.577827, 68), (32.992985, 31), (41.003044, 26), (66.20062, 71), (65.13816, 69), (69.14493, 57), (72.81549, 61), (60.4426, 75), (30.437843, 31), (58.215466, 65), (75.42242, 71), (58.40716, 75), (65.995026, 75), (27.905556, 25), (34.582138, 69), (72.36009, 69), (38.273823, 31), (75.46311, 69), (28.197754, 26), (75.39777, 75), (72.79164, 75), (67.16848, 71), (68.23347, 75), (58.019825, 73), (35.601223, 65), (68.381035, 73), (27.392723, 26), (60.339222, 61), (73.63149, 68), (43.456276, 65), (23.921787, 31), (71.14008, 70), (30.538536, 27), (46.437256, 31), (58.98526, 61), (77.47626, 73), (62.758907, 67), (61.791157, 57), (24.779444, 24), (74.64018, 75), (64.00036, 73), (72.11525, 69), (61.828854, 69), (53.39893, 75), (55.32914, 57), (65.64613, 31), (57.34068, 65), (57.562756, 70), (68.65301, 75), (32.345154, 29), (71.998024, 69), (27.63536, 25), (30.365562, 31), (22.38276, 25), (23.180674, 23), (46.649998, 27), (39.124493, 63), (26.863419, 25), (34.18072, 26), (60.022625, 70), (32.762352, 24), (28.601046, 26), (72.62947, 69), (55.066902, 57), (75.34982, 75), (23.72213, 27), (33.371376, 24), (65.48872, 57), (31.290653, 26), (37.671535, 27), (30.34063, 24), (31.9291, 25), (43.530697, 31), (72.09865, 71), (21.228386, 27), (67.32704, 68), (63.64991, 61), (34.136497, 29), (23.753206, 23), (26.180485, 31), (70.76313, 69), (25.469955, 23), (27.338844, 25), (72.932045, 61), (63.395817, 71), (63.982773, 73), (69.11284, 70), (26.86994, 26), (35.233826, 23), (77.05789, 75), (72.99477, 70)]\n",
      "Mean Absolute Error: 8.45993601022898\n"
     ]
    }
   ],
   "source": [
    "predictions = model.predict(x_test)\n",
    "print(list(zip(predictions, y_test)))\n",
    "# Calculating Mean Absolute Error\n",
    "mae = mean_absolute_error(y_test, predictions)\n",
    "\n",
    "print(\"Mean Absolute Error:\", mae)"
   ]
  },
  {
   "cell_type": "code",
   "execution_count": 15,
   "metadata": {},
   "outputs": [
    {
     "data": {
      "text/plain": [
       "<BarContainer object of 7 artists>"
      ]
     },
     "execution_count": 15,
     "metadata": {},
     "output_type": "execute_result"
    },
    {
     "data": {
      "image/png": "[encoded data removed]",
      "text/plain": [
       "<Figure size 640x480 with 1 Axes>"
      ]
     },
     "metadata": {},
     "output_type": "display_data"
    }
   ],
   "source": [
    "plt.bar(params_to_work_with, model.feature_importances_)"
   ]
  },
  {
   "cell_type": "markdown",
   "metadata": {},
   "source": [
    "## Params prediction"
   ]
  },
  {
   "cell_type": "code",
   "execution_count": 16,
   "metadata": {},
   "outputs": [],
   "source": [
    "random_state = 42\n",
    "param_to_predict = 'r1'\n",
    "data = chosen_data_raw.copy()\n",
    "data = data.sample(frac=1, random_state=random_state)\n",
    "x, y, rois_names = data[params_to_work_with], data[param_to_predict], data['ROI_name']"
   ]
  },
  {
   "cell_type": "code",
   "execution_count": 17,
   "metadata": {},
   "outputs": [],
   "source": [
    "x_train, x_test, y_train, y_test = train_test_split(x, y, test_size=0.2, random_state=random_state)\n",
    "model = xgb.XGBRegressor(random_state=random_state)"
   ]
  },
  {
   "cell_type": "code",
   "execution_count": 18,
   "metadata": {},
   "outputs": [
    {
     "name": "stdout",
     "output_type": "stream",
     "text": [
      "Mean Absolute Error: 0.0005187296473586166\n"
     ]
    }
   ],
   "source": [
    "model.fit(x_train, y_train)\n",
    "predictions = model.predict(x_test)\n",
    "\n",
    "# Calculating Mean Absolute Error\n",
    "mae = mean_absolute_error(y_test, predictions)\n",
    "\n",
    "print(\"Mean Absolute Error:\", mae)"
   ]
  },
  {
   "cell_type": "markdown",
   "metadata": {},
   "source": []
  }
 ],
 "metadata": {
  "kernelspec": {
   "display_name": "qmri",
   "language": "python",
   "name": "python3"
  },
  "language_info": {
   "codemirror_mode": {
    "name": "ipython",
    "version": 3
   },
   "file_extension": ".py",
   "mimetype": "text/x-python",
   "name": "python",
   "nbconvert_exporter": "python",
   "pygments_lexer": "ipython3",
   "version": "3.10.11"
  },
  "orig_nbformat": 4
 },
 "nbformat": 4,
 "nbformat_minor": 2
}
